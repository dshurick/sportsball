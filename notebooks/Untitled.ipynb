{
 "cells": [
  {
   "cell_type": "code",
   "execution_count": null,
   "metadata": {},
   "outputs": [],
   "source": [
    "import numpy\n",
    "import pandas\n",
    "import sklearn\n",
    "import sklearn.linear_model\n",
    "from hyperopt import fmin, tpe, hp, STATUS_OK, Trials\n",
    "from sklearn.model_selection import LeavePGroupsOut\n",
    "from sklearn.model_selection import cross_validate\n",
    "from sklearn_pandas import DataFrameMapper\n",
    "\n",
    "from sportsball.nfl.nfl import Season\n",
    "\n",
    "season_2018 = Season(\n",
    "    year=2018,\n",
    "    sheettitle='NFL 2018 Expected Wins',\n",
    ")\n",
    "\n",
    "season_2018.attach_sagarin_ratings()\n",
    "season_2018.attach_538_ratings()\n",
    "season_2018.attach_massey_ratings()\n",
    "season_2018.attach_scorex_ratings()\n",
    "season_2018.attach_vegas_ratings()\n",
    "\n",
    "\n",
    "def genratings(season, system):\n",
    "    for teamname, team in season.teams.items():\n",
    "        for week, rating in team.ratings[system].items():\n",
    "            ret = {\n",
    "                'team_id': team.team_id,\n",
    "                'system_name': system,\n",
    "                'week': week,\n",
    "            }\n",
    "            ret.update(rating)\n",
    "            yield ret\n",
    "\n",
    "\n",
    "ratings_gnrtr = genratings(season_2018, 'massey')\n",
    "ratings_pdf = pandas.DataFrame(list(ratings_gnrtr))\n",
    "del ratings_pdf['system_name']\n",
    "dtf = pandas.DataFrame([{\n",
    "    'away_team': game.away_team.team_id,\n",
    "    'home_team': game.home_team.team_id,\n",
    "    'away_score': game.away_score,\n",
    "    'home_score': game.home_score,\n",
    "    'home_adv': 0 if game.neutral else 1,\n",
    "    'week': game.week,\n",
    "    'game_id': ii,\n",
    "} for ii, game in enumerate(season_2018.games) if game.played] +\n",
    "                       [{\n",
    "                           'away_team': game.home_team.team_id,\n",
    "                           'home_team': game.away_team.team_id,\n",
    "                           'away_score': game.home_score,\n",
    "                           'home_score': game.away_score,\n",
    "                           'home_adv': 0 if game.neutral else -1,\n",
    "                           'week': game.week,\n",
    "                           'game_id': ii,\n",
    "                       } for ii, game in enumerate(season_2018.games)\n",
    "                        if game.played])[[\n",
    "                            'game_id',\n",
    "                            'week',\n",
    "                            'away_team',\n",
    "                            'home_team',\n",
    "                            'home_adv',\n",
    "                            'away_score',\n",
    "                            'home_score',\n",
    "                        ]]\n",
    "dtf = dtf.merge(\n",
    "    ratings_pdf.rename(\n",
    "        index=str,\n",
    "        columns={\n",
    "            'team_id': 'away_team',\n",
    "            'def': 'def_away',\n",
    "            'hfa': 'hfa_away',\n",
    "            'off': 'off_away',\n",
    "            'rating': 'rating_away',\n",
    "        }),\n",
    "    how='left',\n",
    "    on=[\n",
    "        'week',\n",
    "        'away_team',\n",
    "    ]).merge(\n",
    "        ratings_pdf.rename(\n",
    "            index=str,\n",
    "            columns={\n",
    "                'team_id': 'home_team',\n",
    "                'def': 'def_home',\n",
    "                'hfa': 'hfa_home',\n",
    "                'off': 'off_home',\n",
    "                'rating': 'rating_home',\n",
    "            }),\n",
    "        how='left',\n",
    "        on=[\n",
    "            'week',\n",
    "            'home_team',\n",
    "        ])\n",
    "dtf['away_team'] = pandas.Categorical(dtf['away_team'])\n",
    "dtf['home_team'] = pandas.Categorical(dtf['home_team'])\n",
    "dtf = dtf.loc[dtf.home_score != dtf.away_score]\n",
    "dtf.loc[dtf.home_adv == 1, 'hfa_away'] = 0\n",
    "dtf.loc[dtf.home_adv == -1, 'hfa_home'] = 0\n",
    "\n",
    "y = numpy.array((dtf.home_score > dtf.away_score) * 1)\n",
    "\n",
    "featurizer = DataFrameMapper(\n",
    "    [(\n",
    "        [col],\n",
    "        None,\n",
    "    ) for col in (\n",
    "        'def_away',\n",
    "        'hfa_away',\n",
    "        'off_away',\n",
    "        'def_home',\n",
    "        'hfa_home',\n",
    "        'off_home',\n",
    "    )],\n",
    "    sparse=True,\n",
    ")\n",
    "\n",
    "X = featurizer.fit_transform(dtf)"
   ]
  },
  {
   "cell_type": "code",
   "execution_count": 20,
   "metadata": {},
   "outputs": [],
   "source": [
    "name = 'hypers'\n",
    "\n",
    "space = {\n",
    "    'alpha': hp.loguniform(name + '_alpha', numpy.log(1e-6), numpy.log(1e-1)),\n",
    "}"
   ]
  },
  {
   "cell_type": "code",
   "execution_count": 6,
   "metadata": {},
   "outputs": [],
   "source": [
    "from sklearn.model_selection import GroupKFold"
   ]
  },
  {
   "cell_type": "code",
   "execution_count": 16,
   "metadata": {},
   "outputs": [],
   "source": [
    "cvfolds = list(GroupKFold(n_splits=20).split(dtf, y, numpy.array(dtf.game_id)))"
   ]
  },
  {
   "cell_type": "code",
   "execution_count": 19,
   "metadata": {},
   "outputs": [],
   "source": [
    "from sklearn.linear_model import RidgeClassifier"
   ]
  },
  {
   "cell_type": "code",
   "execution_count": 79,
   "metadata": {},
   "outputs": [],
   "source": [
    "from sklearn.calibration import CalibratedClassifierCV"
   ]
  },
  {
   "cell_type": "code",
   "execution_count": 91,
   "metadata": {},
   "outputs": [],
   "source": [
    "def logistic(x):\n",
    "    return 1 / (1 + numpy.exp(-x))\n",
    "\n",
    "\n",
    "def myscorer(estimator, X, y):\n",
    "    return log_loss(\n",
    "        y_true=y, y_pred=logistic(estimator.decision_function(X=X)))\n",
    "\n",
    "\n",
    "def objective(params):\n",
    "    \n",
    "    pipe = RidgeClassifier(normalize=True, fit_intercept=True, **params)\n",
    "    clf_sigmoid = CalibratedClassifierCV(pipe, cv=3, method='sigmoid')\n",
    "\n",
    "    cvresults = cross_val_score(\n",
    "        estimator=clf_sigmoid,\n",
    "        X=X,\n",
    "        y=y,\n",
    "        cv=cvfolds,\n",
    "        scoring='neg_log_loss',\n",
    "    )\n",
    "\n",
    "    ret = {\n",
    "        'loss': -cvresults.mean(),\n",
    "        'status': STATUS_OK,\n",
    "    }\n",
    "\n",
    "    return ret"
   ]
  },
  {
   "cell_type": "code",
   "execution_count": 92,
   "metadata": {},
   "outputs": [
    {
     "data": {
      "text/plain": [
       "{'loss': 0.6491064515027032, 'status': 'ok'}"
      ]
     },
     "execution_count": 92,
     "metadata": {},
     "output_type": "execute_result"
    }
   ],
   "source": [
    "objective({'alpha': 0.004})"
   ]
  },
  {
   "cell_type": "code",
   "execution_count": 48,
   "metadata": {},
   "outputs": [],
   "source": [
    "from sklearn.metrics import log_loss"
   ]
  },
  {
   "cell_type": "code",
   "execution_count": 50,
   "metadata": {},
   "outputs": [],
   "source": [
    "pipe = RidgeClassifier(normalize=True, fit_intercept=True, alpha=1.0)"
   ]
  },
  {
   "cell_type": "code",
   "execution_count": 54,
   "metadata": {},
   "outputs": [],
   "source": [
    "from sklearn.model_selection import cross_val_score"
   ]
  },
  {
   "cell_type": "code",
   "execution_count": 53,
   "metadata": {},
   "outputs": [
    {
     "data": {
      "text/plain": [
       "-0.6618573083485888"
      ]
     },
     "execution_count": 53,
     "metadata": {},
     "output_type": "execute_result"
    }
   ],
   "source": [
    "cross_val_score(\n",
    "    X=X,\n",
    "    y=y,\n",
    "    cv=cvfolds,\n",
    "    estimator=pipe,\n",
    "    scoring=myscorer,\n",
    ")"
   ]
  },
  {
   "cell_type": "code",
   "execution_count": 94,
   "metadata": {},
   "outputs": [],
   "source": [
    "trials = Trials()"
   ]
  },
  {
   "cell_type": "code",
   "execution_count": 97,
   "metadata": {},
   "outputs": [],
   "source": [
    "best = fmin(\n",
    "    objective,\n",
    "    space=space,\n",
    "    verbose=1,\n",
    "    algo=tpe.suggest,\n",
    "    max_evals=250,\n",
    "    trials=trials,\n",
    ")"
   ]
  },
  {
   "cell_type": "code",
   "execution_count": 98,
   "metadata": {},
   "outputs": [
    {
     "data": {
      "text/plain": [
       "0.646429245865589"
      ]
     },
     "execution_count": 98,
     "metadata": {},
     "output_type": "execute_result"
    }
   ],
   "source": [
    "min(trials.losses())"
   ]
  },
  {
   "cell_type": "code",
   "execution_count": 99,
   "metadata": {},
   "outputs": [
    {
     "name": "stdout",
     "output_type": "stream",
     "text": [
      "{'hypers_alpha': 0.09993161695315884}\n"
     ]
    }
   ],
   "source": [
    "print(best)"
   ]
  },
  {
   "cell_type": "code",
   "execution_count": 104,
   "metadata": {},
   "outputs": [],
   "source": [
    "pipe = RidgeClassifier(\n",
    "    normalize=True, fit_intercept=True, alpha=0.09993161695315884)"
   ]
  },
  {
   "cell_type": "code",
   "execution_count": 150,
   "metadata": {},
   "outputs": [],
   "source": [
    "clf_sigmoid = CalibratedClassifierCV(\n",
    "    RidgeClassifier(\n",
    "        normalize=True, fit_intercept=True, alpha=0.09993161695315884),\n",
    "    cv=5,\n",
    "    method='sigmoid')"
   ]
  },
  {
   "cell_type": "code",
   "execution_count": 151,
   "metadata": {},
   "outputs": [
    {
     "data": {
      "text/plain": [
       "CalibratedClassifierCV(base_estimator=RidgeClassifier(alpha=0.09993161695315884, class_weight=None, copy_X=True,\n",
       "        fit_intercept=True, max_iter=None, normalize=True,\n",
       "        random_state=None, solver='auto', tol=0.001),\n",
       "            cv=5, method='sigmoid')"
      ]
     },
     "execution_count": 151,
     "metadata": {},
     "output_type": "execute_result"
    }
   ],
   "source": [
    "clf_sigmoid.fit(X, y)"
   ]
  },
  {
   "cell_type": "code",
   "execution_count": 134,
   "metadata": {},
   "outputs": [],
   "source": [
    "clsfparams = numpy.array([[x.calibrators_[0].a_, x.calibrators_[0].b_]\n",
    "             for x in clf_sigmoid.calibrated_classifiers_])"
   ]
  },
  {
   "cell_type": "code",
   "execution_count": 153,
   "metadata": {},
   "outputs": [
    {
     "data": {
      "text/plain": [
       "-2.0472903800278957"
      ]
     },
     "execution_count": 153,
     "metadata": {},
     "output_type": "execute_result"
    }
   ],
   "source": [
    "clsfparams[:, 0].mean()"
   ]
  },
  {
   "cell_type": "code",
   "execution_count": 154,
   "metadata": {},
   "outputs": [
    {
     "data": {
      "text/plain": [
       "-0.17993980284865016"
      ]
     },
     "execution_count": 154,
     "metadata": {},
     "output_type": "execute_result"
    }
   ],
   "source": [
    "clsfparams[:, 1].mean()"
   ]
  },
  {
   "cell_type": "code",
   "execution_count": 145,
   "metadata": {},
   "outputs": [
    {
     "data": {
      "text/plain": [
       "RidgeClassifier(alpha=0.09993161695315884, class_weight=None, copy_X=True,\n",
       "        fit_intercept=True, max_iter=None, normalize=True,\n",
       "        random_state=None, solver='auto', tol=0.001)"
      ]
     },
     "execution_count": 145,
     "metadata": {},
     "output_type": "execute_result"
    }
   ],
   "source": [
    "pipe.fit(X, y)"
   ]
  },
  {
   "cell_type": "code",
   "execution_count": 146,
   "metadata": {},
   "outputs": [
    {
     "data": {
      "text/plain": [
       "array([[ 0.03671798, -0.09451312, -0.04866814, -0.03671798,  0.09451312,\n",
       "         0.04866814]])"
      ]
     },
     "execution_count": 146,
     "metadata": {},
     "output_type": "execute_result"
    }
   ],
   "source": [
    "pipe.coef_"
   ]
  },
  {
   "cell_type": "code",
   "execution_count": 148,
   "metadata": {},
   "outputs": [
    {
     "data": {
      "text/plain": [
       "['def_away', 'hfa_away', 'off_away', 'def_home', 'hfa_home', 'off_home']"
      ]
     },
     "execution_count": 148,
     "metadata": {},
     "output_type": "execute_result"
    }
   ],
   "source": [
    "featurizer.transformed_names_"
   ]
  },
  {
   "cell_type": "code",
   "execution_count": 156,
   "metadata": {},
   "outputs": [
    {
     "data": {
      "text/plain": [
       "array([ 4.27,  0.  , 23.41,  2.73,  2.71, 27.68])"
      ]
     },
     "execution_count": 156,
     "metadata": {},
     "output_type": "execute_result"
    }
   ],
   "source": [
    "X[0, :]"
   ]
  },
  {
   "cell_type": "code",
   "execution_count": 157,
   "metadata": {},
   "outputs": [
    {
     "data": {
      "text/plain": [
       "array([[0.25914888, 0.74085112],\n",
       "       [0.30107684, 0.69892316],\n",
       "       [0.3969018 , 0.6030982 ],\n",
       "       [0.28296128, 0.71703872],\n",
       "       [0.48383918, 0.51616082],\n",
       "       [0.43073678, 0.56926322],\n",
       "       [0.26118032, 0.73881968],\n",
       "       [0.34063955, 0.65936045],\n",
       "       [0.42961343, 0.57038657],\n",
       "       [0.31073742, 0.68926258],\n",
       "       [0.3934468 , 0.6065532 ],\n",
       "       [0.47850972, 0.52149028],\n",
       "       [0.25870418, 0.74129582],\n",
       "       [0.25695891, 0.74304109],\n",
       "       [0.43499305, 0.56500695],\n",
       "       [0.42789386, 0.57210614],\n",
       "       [0.4210367 , 0.5789633 ],\n",
       "       [0.1911304 , 0.8088696 ],\n",
       "       [0.402972  , 0.597028  ],\n",
       "       [0.33716305, 0.66283695],\n",
       "       [0.34622906, 0.65377094],\n",
       "       [0.40816317, 0.59183683],\n",
       "       [0.37847315, 0.62152685],\n",
       "       [0.35725321, 0.64274679],\n",
       "       [0.27534236, 0.72465764],\n",
       "       [0.45357863, 0.54642137],\n",
       "       [0.45386358, 0.54613642],\n",
       "       [0.36332056, 0.63667944],\n",
       "       [0.34505367, 0.65494633],\n",
       "       [0.50492355, 0.49507645],\n",
       "       [0.46069073, 0.53930927],\n",
       "       [0.34184054, 0.65815946],\n",
       "       [0.35153799, 0.64846201],\n",
       "       [0.2877746 , 0.7122254 ],\n",
       "       [0.46291242, 0.53708758],\n",
       "       [0.27020527, 0.72979473],\n",
       "       [0.55876409, 0.44123591],\n",
       "       [0.2921431 , 0.7078569 ],\n",
       "       [0.35999553, 0.64000447],\n",
       "       [0.30112897, 0.69887103],\n",
       "       [0.33106275, 0.66893725],\n",
       "       [0.34602878, 0.65397122],\n",
       "       [0.38608526, 0.61391474],\n",
       "       [0.29705062, 0.70294938],\n",
       "       [0.35288876, 0.64711124],\n",
       "       [0.41571616, 0.58428384],\n",
       "       [0.26935851, 0.73064149],\n",
       "       [0.26733317, 0.73266683],\n",
       "       [0.40539902, 0.59460098],\n",
       "       [0.5463503 , 0.4536497 ],\n",
       "       [0.48682944, 0.51317056],\n",
       "       [0.28077267, 0.71922733],\n",
       "       [0.37306743, 0.62693257],\n",
       "       [0.47851424, 0.52148576],\n",
       "       [0.55729731, 0.44270269],\n",
       "       [0.29768339, 0.70231661],\n",
       "       [0.53423111, 0.46576889],\n",
       "       [0.66388655, 0.33611345],\n",
       "       [0.41163038, 0.58836962],\n",
       "       [0.28181301, 0.71818699],\n",
       "       [0.54627985, 0.45372015],\n",
       "       [0.27192541, 0.72807459],\n",
       "       [0.31038378, 0.68961622],\n",
       "       [0.41703584, 0.58296416],\n",
       "       [0.34018625, 0.65981375],\n",
       "       [0.28742705, 0.71257295],\n",
       "       [0.21395728, 0.78604272],\n",
       "       [0.26174834, 0.73825166],\n",
       "       [0.28061781, 0.71938219],\n",
       "       [0.40453483, 0.59546517],\n",
       "       [0.38837551, 0.61162449],\n",
       "       [0.21716085, 0.78283915],\n",
       "       [0.43464977, 0.56535023],\n",
       "       [0.32298367, 0.67701633],\n",
       "       [0.25396394, 0.74603606],\n",
       "       [0.20397668, 0.79602332],\n",
       "       [0.41641107, 0.58358893],\n",
       "       [0.68928038, 0.31071962],\n",
       "       [0.65766822, 0.34233178],\n",
       "       [0.56268561, 0.43731439],\n",
       "       [0.67760407, 0.32239593],\n",
       "       [0.45636171, 0.54363829],\n",
       "       [0.50527953, 0.49472047],\n",
       "       [0.69870738, 0.30129262],\n",
       "       [0.63075932, 0.36924068],\n",
       "       [0.51019176, 0.48980824],\n",
       "       [0.64208193, 0.35791807],\n",
       "       [0.56244861, 0.43755139],\n",
       "       [0.46048641, 0.53951359],\n",
       "       [0.70968975, 0.29031025],\n",
       "       [0.7126553 , 0.2873447 ],\n",
       "       [0.50814384, 0.49185616],\n",
       "       [0.51219565, 0.48780435],\n",
       "       [0.5098376 , 0.4901624 ],\n",
       "       [0.79069409, 0.20930591],\n",
       "       [0.55486367, 0.44513633],\n",
       "       [0.62340925, 0.37659075],\n",
       "       [0.59463282, 0.40536718],\n",
       "       [0.54363607, 0.45636393],\n",
       "       [0.59082315, 0.40917685],\n",
       "       [0.57975047, 0.42024953],\n",
       "       [0.67971326, 0.32028674],\n",
       "       [0.47981763, 0.52018237],\n",
       "       [0.46885877, 0.53114123],\n",
       "       [0.604243  , 0.395757  ],\n",
       "       [0.60915757, 0.39084243],\n",
       "       [0.43089531, 0.56910469],\n",
       "       [0.49600456, 0.50399544],\n",
       "       [0.61124679, 0.38875321],\n",
       "       [0.59615903, 0.40384097],\n",
       "       [0.67478001, 0.32521999],\n",
       "       [0.47685535, 0.52314465],\n",
       "       [0.68963278, 0.31036722],\n",
       "       [0.35592083, 0.64407917],\n",
       "       [0.68003123, 0.31996877],\n",
       "       [0.60377516, 0.39622484],\n",
       "       [0.64880633, 0.35119367],\n",
       "       [0.62005245, 0.37994755],\n",
       "       [0.58912581, 0.41087419],\n",
       "       [0.5682658 , 0.4317342 ],\n",
       "       [0.65540644, 0.34459356],\n",
       "       [0.5860642 , 0.4139358 ],\n",
       "       [0.51545417, 0.48454583],\n",
       "       [0.67826381, 0.32173619],\n",
       "       [0.70131741, 0.29868259],\n",
       "       [0.53048738, 0.46951262],\n",
       "       [0.38520505, 0.61479495],\n",
       "       [0.46153664, 0.53846336],\n",
       "       [0.67821801, 0.32178199],\n",
       "       [0.57511074, 0.42488926],\n",
       "       [0.45043127, 0.54956873],\n",
       "       [0.3735121 , 0.6264879 ],\n",
       "       [0.67915269, 0.32084731],\n",
       "       [0.40578049, 0.59421951],\n",
       "       [0.27221732, 0.72778268],\n",
       "       [0.52723226, 0.47276774],\n",
       "       [0.66670469, 0.33329531],\n",
       "       [0.37887802, 0.62112198],\n",
       "       [0.69368747, 0.30631253],\n",
       "       [0.63405612, 0.36594388],\n",
       "       [0.52490071, 0.47509929],\n",
       "       [0.62890137, 0.37109863],\n",
       "       [0.67355302, 0.32644698],\n",
       "       [0.74833651, 0.25166349],\n",
       "       [0.70229396, 0.29770604],\n",
       "       [0.68632684, 0.31367316],\n",
       "       [0.54696212, 0.45303788],\n",
       "       [0.55874194, 0.44125806],\n",
       "       [0.75944228, 0.24055772],\n",
       "       [0.48951664, 0.51048336],\n",
       "       [0.62220904, 0.37779096],\n",
       "       [0.71289009, 0.28710991],\n",
       "       [0.76252734, 0.23747266],\n",
       "       [0.52604196, 0.47395804]])"
      ]
     },
     "execution_count": 157,
     "metadata": {},
     "output_type": "execute_result"
    }
   ],
   "source": [
    "clf_sigmoid.predict_proba(X)"
   ]
  },
  {
   "cell_type": "code",
   "execution_count": 107,
   "metadata": {},
   "outputs": [
    {
     "data": {
      "text/plain": [
       "array([0.62726215, 0.60451023, 0.55047125, 0.62050078, 0.49786658,\n",
       "       0.52988922, 0.63163079, 0.5899702 , 0.53154812, 0.59826773])"
      ]
     },
     "execution_count": 107,
     "metadata": {},
     "output_type": "execute_result"
    }
   ],
   "source": [
    "logistic(pipe.decision_function(X[:10, :]))"
   ]
  },
  {
   "cell_type": "code",
   "execution_count": 147,
   "metadata": {},
   "outputs": [
    {
     "data": {
      "text/plain": [
       "['def_away', 'hfa_away', 'off_away', 'def_home', 'hfa_home', 'off_home']"
      ]
     },
     "execution_count": 147,
     "metadata": {},
     "output_type": "execute_result"
    }
   ],
   "source": [
    "featurizer.transformed_names_"
   ]
  },
  {
   "cell_type": "code",
   "execution_count": 64,
   "metadata": {},
   "outputs": [
    {
     "data": {
      "text/plain": [
       "array([[ 0.04151575, -0.09884618, -0.05349901, -0.04151575,  0.09884618,\n",
       "         0.05349901]])"
      ]
     },
     "execution_count": 64,
     "metadata": {},
     "output_type": "execute_result"
    }
   ],
   "source": [
    "pipe.coef_"
   ]
  },
  {
   "cell_type": "code",
   "execution_count": 76,
   "metadata": {},
   "outputs": [
    {
     "data": {
      "text/plain": [
       "array([0.63650996, 0.61175472, 0.55299253, 0.6265383 , 0.49491411,\n",
       "       0.52733217, 0.64009533, 0.59454379, 0.52953813, 0.60426524,\n",
       "       0.55676592, 0.49797992, 0.64580842, 0.64720329, 0.52694077,\n",
       "       0.52792399, 0.53003192, 0.71101147, 0.54996973, 0.5893482 ,\n",
       "       0.57601697, 0.54579963, 0.57071236, 0.56894237, 0.62642968,\n",
       "       0.50956796, 0.50737336, 0.57842916, 0.58210116, 0.48169533,\n",
       "       0.51458132, 0.58537627, 0.57672749, 0.6225241 , 0.50682946,\n",
       "       0.63470253, 0.44323643, 0.62369701, 0.57817807, 0.60755674,\n",
       "       0.5901203 , 0.57253334, 0.55745155, 0.61120584, 0.57096694,\n",
       "       0.5330553 , 0.62764714, 0.63912915, 0.54050477, 0.45550464,\n",
       "       0.49585672, 0.62616837, 0.56361034, 0.49465346, 0.44738443,\n",
       "       0.62286996, 0.46385456, 0.37313795, 0.53749659, 0.61908976,\n",
       "       0.45064743, 0.63636239, 0.5993137 , 0.53522191, 0.59258387,\n",
       "       0.62177377, 0.67745366, 0.64076191, 0.63072916, 0.54723483,\n",
       "       0.55412109, 0.68299862, 0.51959274, 0.59350165, 0.64767224,\n",
       "       0.68806834, 0.53590216, 0.36349004, 0.38824528, 0.44700747,\n",
       "       0.3734617 , 0.50508589, 0.47266783, 0.35990467, 0.40545621,\n",
       "       0.47046187, 0.39573476, 0.44323408, 0.50202008, 0.35419158,\n",
       "       0.35279671, 0.47305923, 0.47207601, 0.46996808, 0.28898853,\n",
       "       0.45003027, 0.4106518 , 0.42398303, 0.45420037, 0.42928764,\n",
       "       0.43105763, 0.37357032, 0.49043204, 0.49262664, 0.42157084,\n",
       "       0.41789884, 0.51830467, 0.48541868, 0.41462373, 0.42327251,\n",
       "       0.3774759 , 0.49317054, 0.36529747, 0.55676357, 0.37630299,\n",
       "       0.42182193, 0.39244326, 0.4098797 , 0.42746666, 0.44254845,\n",
       "       0.38879416, 0.42903306, 0.4669447 , 0.37235286, 0.36087085,\n",
       "       0.45949523, 0.54449536, 0.50414328, 0.37383163, 0.43638966,\n",
       "       0.50534654, 0.55261557, 0.37713004, 0.53614544, 0.62686205,\n",
       "       0.46250341, 0.38091024, 0.54935257, 0.36363761, 0.4006863 ,\n",
       "       0.46477809, 0.40741613, 0.37822623, 0.32254634, 0.35923809,\n",
       "       0.36927084, 0.45276517, 0.44587891, 0.31700138, 0.48040726,\n",
       "       0.40649835, 0.35232776, 0.31193166, 0.46409784])"
      ]
     },
     "execution_count": 76,
     "metadata": {},
     "output_type": "execute_result"
    }
   ],
   "source": [
    "logistic(numpy.dot(X, pipe.coef_.reshape(-1, 1))[:, 0])"
   ]
  },
  {
   "cell_type": "code",
   "execution_count": null,
   "metadata": {},
   "outputs": [],
   "source": []
  }
 ],
 "metadata": {
  "kernelspec": {
   "display_name": "Python [conda env:nfl]",
   "language": "python",
   "name": "conda-env-nfl-py"
  },
  "language_info": {
   "codemirror_mode": {
    "name": "ipython",
    "version": 3
   },
   "file_extension": ".py",
   "mimetype": "text/x-python",
   "name": "python",
   "nbconvert_exporter": "python",
   "pygments_lexer": "ipython3",
   "version": "3.6.6"
  }
 },
 "nbformat": 4,
 "nbformat_minor": 2
}
