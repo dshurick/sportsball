{
 "cells": [
  {
   "cell_type": "code",
   "execution_count": 1,
   "metadata": {},
   "outputs": [],
   "source": [
    "%load_ext autoreload\n",
    "%autoreload 2"
   ]
  },
  {
   "cell_type": "code",
   "execution_count": 2,
   "metadata": {},
   "outputs": [],
   "source": [
    "import sportsball\n",
    "from sportsball.nfl.nfl import Season, Team, Game\n",
    "from sportsball.parsing import MasseyParser\n",
    "from gspread_pandas import Spread, Client\n",
    "import pymongo"
   ]
  },
  {
   "cell_type": "code",
   "execution_count": null,
   "metadata": {},
   "outputs": [],
   "source": [
    "client = pymongo.MongoClient()"
   ]
  },
  {
   "cell_type": "code",
   "execution_count": 3,
   "metadata": {},
   "outputs": [],
   "source": [
    "season_2018 = Season(\n",
    "    year=2018,\n",
    "    sheettitle='NFL 2018 Expected Wins',\n",
    ")"
   ]
  },
  {
   "cell_type": "code",
   "execution_count": 18,
   "metadata": {},
   "outputs": [],
   "source": [
    "db = client.sportsball"
   ]
  },
  {
   "cell_type": "code",
   "execution_count": 19,
   "metadata": {},
   "outputs": [],
   "source": [
    "teams = db.teams"
   ]
  },
  {
   "cell_type": "code",
   "execution_count": 30,
   "metadata": {},
   "outputs": [
    {
     "data": {
      "text/plain": [
       "'id_text'"
      ]
     },
     "execution_count": 30,
     "metadata": {},
     "output_type": "execute_result"
    }
   ],
   "source": [
    "db.teams.create_index([('id', pymongo.TEXT)], unique=True)"
   ]
  },
  {
   "cell_type": "markdown",
   "metadata": {},
   "source": [
    "## Inserting seasons"
   ]
  },
  {
   "cell_type": "code",
   "execution_count": null,
   "metadata": {},
   "outputs": [],
   "source": [
    "result = db.seasons.insert_one({'year': 2018})"
   ]
  },
  {
   "cell_type": "markdown",
   "metadata": {},
   "source": [
    "## Inserting teams"
   ]
  },
  {
   "cell_type": "code",
   "execution_count": 46,
   "metadata": {},
   "outputs": [],
   "source": [
    "result = db.teams.insert_many([{\n",
    "    'id': team.team_id,\n",
    "    'conference': team.conference,\n",
    "    'division': team.division,\n",
    "    'year': team.season.year,\n",
    "} for team in season_2018.teams.values()])"
   ]
  },
  {
   "cell_type": "markdown",
   "metadata": {},
   "source": [
    "## Inserting games"
   ]
  },
  {
   "cell_type": "code",
   "execution_count": 82,
   "metadata": {},
   "outputs": [],
   "source": [
    "for game in season_2018.games:\n",
    "    away_team_id = db.teams.find_one({'id': game.away_team.team_id})\n",
    "    home_team_id = db.teams.find_one({'id': game.home_team.team_id})\n",
    "    obj = {\n",
    "        'away_score': game.away_score,\n",
    "        'home_score': game.home_score,\n",
    "        'away_team_id': away_team_id['_id'],\n",
    "        'home_team_id': home_team_id['_id'],\n",
    "        'game_round': game.game_round.value,\n",
    "        'neutral': game.neutral,\n",
    "        'played': game.played,\n",
    "        'playoff': game.playoff,\n",
    "        'week': game.week,\n",
    "        'season_id': ssn['_id'],\n",
    "    }\n",
    "    db.games.insert_one(obj)"
   ]
  },
  {
   "cell_type": "code",
   "execution_count": 3,
   "metadata": {},
   "outputs": [],
   "source": [
    "from sportsball.parsing import SagarinParser"
   ]
  },
  {
   "cell_type": "code",
   "execution_count": 88,
   "metadata": {},
   "outputs": [],
   "source": [
    "parser = SagarinParser('../chromedriver')"
   ]
  },
  {
   "cell_type": "code",
   "execution_count": 90,
   "metadata": {},
   "outputs": [],
   "source": [
    "tree = parser.parse_nfl(6)"
   ]
  },
  {
   "cell_type": "code",
   "execution_count": 94,
   "metadata": {},
   "outputs": [],
   "source": [
    "select1 = tree.cssselect('.sagarin-page > br+ pre')"
   ]
  },
  {
   "cell_type": "code",
   "execution_count": 101,
   "metadata": {},
   "outputs": [],
   "source": [
    "from bs4 import BeautifulSoup"
   ]
  },
  {
   "cell_type": "code",
   "execution_count": 107,
   "metadata": {},
   "outputs": [],
   "source": [
    "pattern = r'\\s\\d{1,2}\\s+([\\da-zA-Z\\s]+)\\s+='"
   ]
  },
  {
   "cell_type": "code",
   "execution_count": 108,
   "metadata": {},
   "outputs": [],
   "source": [
    "import re"
   ]
  },
  {
   "cell_type": "code",
   "execution_count": 109,
   "metadata": {},
   "outputs": [],
   "source": [
    "result = re.search(pattern=pattern, string='\\xa0  1  Los Angeles Rams        =')"
   ]
  },
  {
   "cell_type": "code",
   "execution_count": 117,
   "metadata": {},
   "outputs": [],
   "source": [
    "teamnames = []\n",
    "for x in tree.cssselect('#sagarin .sagarin-page br+ font font br+ font'):\n",
    "    if re.search(pattern=r'^_+$', string=x.text):\n",
    "        break\n",
    "    result = re.search(pattern=pattern, string=x.text)\n",
    "    if result:\n",
    "        teamnames.append(result.group(1).strip())"
   ]
  },
  {
   "cell_type": "code",
   "execution_count": 122,
   "metadata": {},
   "outputs": [],
   "source": [
    "rating_pattern=r'(\\d{1,2}\\.\\d{1,2})$'\n",
    "ratings = []\n",
    "for x in tree.cssselect('font:nth-child(66) , font:nth-child(59) , font:nth-child(52) , font:nth-child(45) , font:nth-child(38) , font:nth-child(31) , font:nth-child(24) , font:nth-child(17) , font:nth-child(10) , br~ font+ font:nth-child(3)'):\n",
    "    result = re.search(pattern=rating_pattern, string=x.text)\n",
    "    if result:\n",
    "        ratings.append(float(result.group(1).strip()))\n",
    "        "
   ]
  },
  {
   "cell_type": "code",
   "execution_count": 124,
   "metadata": {},
   "outputs": [],
   "source": [
    "ratings = ratings[:len(teamnames)]"
   ]
  },
  {
   "cell_type": "code",
   "execution_count": 126,
   "metadata": {},
   "outputs": [],
   "source": [
    "import pandas"
   ]
  },
  {
   "cell_type": "code",
   "execution_count": 127,
   "metadata": {},
   "outputs": [],
   "source": [
    "datatable = pandas.DataFrame({'team': teamnames, 'rating': ratings})"
   ]
  },
  {
   "cell_type": "code",
   "execution_count": 4,
   "metadata": {},
   "outputs": [],
   "source": [
    "parser = SagarinParser('../chromedriver')"
   ]
  },
  {
   "cell_type": "code",
   "execution_count": 9,
   "metadata": {},
   "outputs": [],
   "source": [
    "datatable = parser.parse_nfl(week=6)"
   ]
  },
  {
   "cell_type": "code",
   "execution_count": 5,
   "metadata": {},
   "outputs": [],
   "source": [
    "parser.update_spreadsheet(week=6)"
   ]
  },
  {
   "cell_type": "code",
   "execution_count": 7,
   "metadata": {},
   "outputs": [],
   "source": [
    "parser = MasseyParser('../chromedriver')"
   ]
  },
  {
   "cell_type": "code",
   "execution_count": 8,
   "metadata": {},
   "outputs": [],
   "source": [
    "parser.update_spreadsheet(week=6)"
   ]
  },
  {
   "cell_type": "code",
   "execution_count": null,
   "metadata": {},
   "outputs": [],
   "source": []
  }
 ],
 "metadata": {
  "kernelspec": {
   "display_name": "Python [conda env:nfl]",
   "language": "python",
   "name": "conda-env-nfl-py"
  },
  "language_info": {
   "codemirror_mode": {
    "name": "ipython",
    "version": 3
   },
   "file_extension": ".py",
   "mimetype": "text/x-python",
   "name": "python",
   "nbconvert_exporter": "python",
   "pygments_lexer": "ipython3",
   "version": "3.6.6"
  }
 },
 "nbformat": 4,
 "nbformat_minor": 2
}
