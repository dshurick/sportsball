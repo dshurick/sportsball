{
 "cells": [
  {
   "cell_type": "code",
   "execution_count": 1,
   "metadata": {
    "ExecuteTime": {
     "end_time": "2019-01-20T22:35:20.750918Z",
     "start_time": "2019-01-20T22:35:20.726983Z"
    }
   },
   "outputs": [],
   "source": [
    "%load_ext autoreload\n",
    "%autoreload 2"
   ]
  },
  {
   "cell_type": "code",
   "execution_count": 2,
   "metadata": {
    "ExecuteTime": {
     "end_time": "2019-01-20T22:35:21.612012Z",
     "start_time": "2019-01-20T22:35:21.231474Z"
    }
   },
   "outputs": [],
   "source": [
    "# import sportsball\n",
    "# from sportsball.nfl.nfl import Season, Team, Game\n",
    "from sportsball.parsing import MasseyParser\n",
    "# from gspread_pandas import Spread, Client\n",
    "# from tqdm import tqdm_notebook\n",
    "# import pandas\n",
    "# from sportsball.nfl.nfl import GameRound"
   ]
  },
  {
   "cell_type": "code",
   "execution_count": 3,
   "metadata": {
    "ExecuteTime": {
     "end_time": "2019-01-20T22:35:22.178372Z",
     "start_time": "2019-01-20T22:35:22.151215Z"
    }
   },
   "outputs": [],
   "source": [
    "parser = MasseyParser('../chromedriver')"
   ]
  },
  {
   "cell_type": "code",
   "execution_count": 4,
   "metadata": {
    "ExecuteTime": {
     "end_time": "2019-01-20T22:35:34.217945Z",
     "start_time": "2019-01-20T22:35:22.793902Z"
    }
   },
   "outputs": [],
   "source": [
    "parser.update_spreadsheet(week=20)"
   ]
  },
  {
   "cell_type": "code",
   "execution_count": null,
   "metadata": {},
   "outputs": [],
   "source": []
  }
 ],
 "metadata": {
  "kernelspec": {
   "display_name": "Python [conda env:nfl]",
   "language": "python",
   "name": "conda-env-nfl-py"
  },
  "language_info": {
   "codemirror_mode": {
    "name": "ipython",
    "version": 3
   },
   "file_extension": ".py",
   "mimetype": "text/x-python",
   "name": "python",
   "nbconvert_exporter": "python",
   "pygments_lexer": "ipython3",
   "version": "3.7.2"
  }
 },
 "nbformat": 4,
 "nbformat_minor": 2
}
