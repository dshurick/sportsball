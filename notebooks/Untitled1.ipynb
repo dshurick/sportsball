{
 "cells": [
  {
   "cell_type": "code",
   "execution_count": 1,
   "metadata": {
    "ExecuteTime": {
     "end_time": "2018-11-06T15:25:52.447185Z",
     "start_time": "2018-11-06T15:25:52.408033Z"
    }
   },
   "outputs": [],
   "source": [
    "%load_ext autoreload\n",
    "%autoreload 2"
   ]
  },
  {
   "cell_type": "code",
   "execution_count": 2,
   "metadata": {
    "ExecuteTime": {
     "end_time": "2018-11-06T15:25:53.926224Z",
     "start_time": "2018-11-06T15:25:52.705384Z"
    }
   },
   "outputs": [],
   "source": [
    "# import sportsball\n",
    "# from sportsball.nfl.nfl import Season, Team, Game\n",
    "from sportsball.parsing import MasseyParser\n",
    "# from gspread_pandas import Spread, Client\n",
    "# from tqdm import tqdm_notebook\n",
    "# import pandas\n",
    "# from sportsball.nfl.nfl import GameRound"
   ]
  },
  {
   "cell_type": "code",
   "execution_count": 3,
   "metadata": {
    "ExecuteTime": {
     "end_time": "2018-11-06T15:25:53.956265Z",
     "start_time": "2018-11-06T15:25:53.928281Z"
    }
   },
   "outputs": [],
   "source": [
    "parser = MasseyParser('../chromedriver')"
   ]
  },
  {
   "cell_type": "code",
   "execution_count": 4,
   "metadata": {
    "ExecuteTime": {
     "end_time": "2018-11-06T15:26:32.978595Z",
     "start_time": "2018-11-06T15:26:19.402729Z"
    }
   },
   "outputs": [],
   "source": [
    "parser.update_spreadsheet(week=10)"
   ]
  },
  {
   "cell_type": "code",
   "execution_count": null,
   "metadata": {},
   "outputs": [],
   "source": []
  }
 ],
 "metadata": {
  "kernelspec": {
   "display_name": "Python [conda env:nfl]",
   "language": "python",
   "name": "conda-env-nfl-py"
  },
  "language_info": {
   "codemirror_mode": {
    "name": "ipython",
    "version": 3
   },
   "file_extension": ".py",
   "mimetype": "text/x-python",
   "name": "python",
   "nbconvert_exporter": "python",
   "pygments_lexer": "ipython3",
   "version": "3.6.6"
  }
 },
 "nbformat": 4,
 "nbformat_minor": 2
}
