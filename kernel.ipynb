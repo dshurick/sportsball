{
  "cells": [
    {
      "metadata": {
        "_uuid": "8f2839f25d086af736a60e9eeb907d3b93b6e0e5",
        "_cell_guid": "b1076dfc-b9ad-4769-8c92-a6c4dae69d19",
        "trusted": true
      },
      "cell_type": "code",
      "source": "# This Python 3 environment comes with many helpful analytics libraries installed\n# It is defined by the kaggle/python docker image: https://github.com/kaggle/docker-python\n# For example, here's several helpful packages to load in \n\nimport numpy as np # linear algebra\nimport pandas as pd # data processing, CSV file I/O (e.g. pd.read_csv)\n\n# Input data files are available in the \"../input/\" directory.\n# For example, running this (by clicking run or pressing Shift+Enter) will list the files in the input directory\n\nimport os\nprint(os.listdir(\"../input\"))\n\n# Any results you write to the current directory are saved as output.",
      "execution_count": 39,
      "outputs": [
        {
          "output_type": "stream",
          "text": "['masseyordinals', 'playbyplay_2016', 'playbyplay_2013', 'playbyplay_2014', 'playbyplay_2010', 'playbyplay_2011', 'playbyplay_2015', 'SampleSubmissionStage1.csv', 'playbyplay_2017', 'playbyplay_2018', 'datafiles', 'playbyplay_2012']\n",
          "name": "stdout"
        }
      ]
    },
    {
      "metadata": {
        "trusted": true,
        "_uuid": "e7a48d98cb337fd5a76535db0e172a960c3e38bd"
      },
      "cell_type": "code",
      "source": "print(os.listdir(\"../input/datafiles/\"))",
      "execution_count": 40,
      "outputs": [
        {
          "output_type": "stream",
          "text": "['NCAATourneyCompactResults.csv', 'SecondaryTourneyTeams.csv', 'NCAATourneyDetailedResults.csv', 'TeamConferences.csv', 'Teams.csv', 'RegularSeasonDetailedResults.csv', 'SecondaryTourneyCompactResults.csv', 'NCAATourneySlots.csv', 'Seasons.csv', 'Cities.csv', 'RegularSeasonCompactResults.csv', 'Conferences.csv', 'NCAATourneySeeds.csv', 'TeamSpellings.csv', 'GameCities.csv', 'ConferenceTourneyGames.csv', 'TeamCoaches.csv', 'NCAATourneySeedRoundSlots.csv']\n",
          "name": "stdout"
        }
      ]
    },
    {
      "metadata": {
        "_cell_guid": "79c7e3d0-c299-4dcb-8224-4455121ee9b0",
        "_uuid": "d629ff2d2480ee46fbb7e2d37f6b5fab8052498a",
        "trusted": true
      },
      "cell_type": "code",
      "source": "# teams = pd.read_csv('../input/datafiles/Teams.csv')\n# teams2 = pd.read_csv('../input/datafiles/TeamSpellings.csv', encoding='latin-1')\n# season_cresults = pd.read_csv('../input/datafiles/RegularSeasonCompactResults.csv')\n# season_dresults = pd.read_csv('../input/datafiles/RegularSeasonDetailedResults.csv')\n# tourney_cresults = pd.read_csv('../input/datafiles/NCAATourneyCompactResults.csv')\n# tourney_dresults = pd.read_csv('../input/datafiles/NCAATourneyDetailedResults.csv')\n# slots = pd.read_csv('../input/datafiles/NCAATourneySlots.csv')\n# seeds = pd.read_csv('../input/datafiles/NCAATourneySeeds.csv')",
      "execution_count": null,
      "outputs": []
    },
    {
      "metadata": {
        "trusted": true,
        "_uuid": "c83d830358ccf686a40c92f936d8feffda9c75a6"
      },
      "cell_type": "code",
      "source": "# SecondaryTourneyCompactResults = pd.read_csv('../input/datafiles/SecondaryTourneyCompactResults.csv')\n# ConferenceTourneyGames = pd.read_csv('../input/datafiles/ConferenceTourneyGames.csv')\n# GameCities = pd.read_csv('../input/datafiles/GameCities.csv')\n# SecondaryTourneyTeams = pd.read_csv('../input/datafiles/SecondaryTourneyTeams.csv')",
      "execution_count": null,
      "outputs": []
    },
    {
      "metadata": {
        "trusted": true,
        "_uuid": "67095a97803521ab850d2f21bc4c845f135c4ccc"
      },
      "cell_type": "code",
      "source": "teams = pd.read_csv('../input/datafiles/Teams.csv')",
      "execution_count": 46,
      "outputs": []
    },
    {
      "metadata": {
        "trusted": true,
        "_uuid": "fe8804df68c20030440c6b2f4f4d417d7d271adc"
      },
      "cell_type": "code",
      "source": "import pandas as pd\nfrom patsy.contrasts import Sum\nfrom scipy.sparse import csr_matrix, hstack\nfrom scipy.sparse.linalg import lsqr\n\n\ndef load_compact_data():\n    season_cresults = pd.read_csv(\n        '../input/datafiles/RegularSeasonCompactResults.csv')\n    tourney_cresults = pd.read_csv(\n        '../input/datafiles/NCAATourneyCompactResults.csv')\n    secondary_tourney_cresults = pd.read_csv(\n        '../input/datafiles/SecondaryTourneyCompactResults.csv')\n    season_cresults['CRType'] = 'Regular'\n    tourney_cresults['CRType'] = 'NCAA'\n    secondary_tourney_cresults['CRType'] = 'Secondary'\n\n    compact1 = pd.concat(\n        [\n            season_cresults,\n            tourney_cresults,\n            secondary_tourney_cresults,\n        ],\n        ignore_index=True,\n        join='inner').rename(columns=str.lower)\n\n    compact1 = compact1.rename(\n        columns={\n            'wteamid': 'team1',\n            'wscore': 'score1',\n            'lteamid': 'team2',\n            'lscore': 'score2',\n            'wloc': 'team1loc'\n        })\n\n    compact2 = compact1.rename(\n        columns={\n            'team1': 'team2',\n            'score1': 'score2',\n            'team2': 'team1',\n            'score2': 'score1',\n        })\n\n    compact2['team1loc'] = compact2.team1loc.map({\n        'H': 'A',\n        'A': 'H',\n        'N': 'N',\n    })\n\n    compact = pd.concat(\n        [\n            compact1,\n            compact2,\n        ], ignore_index=True, join='inner')\n\n    return compact\n\n\n\ndef load_detailed_data():\n    season_dresults = pd.read_csv(\n        '../input/datafiles/RegularSeasonDetailedResults.csv')\n    tourney_dresults = pd.read_csv(\n        '../input/datafiles/NCAATourneyDetailedResults.csv')\n\n    season_dresults['tourney'] = False\n    tourney_dresults['tourney'] = True\n\n    detailed1 = pd.concat(\n        [\n            season_dresults,\n            tourney_dresults,\n        ], ignore_index=True, join='inner')\n\n    detailed1 = detailed1.rename(columns=str.lower)\n    detailed2 = detailed1.copy()\n\n    detailed1 = detailed1.rename(\n        columns={\n            'wteamid': 'team1',\n            'wscore': 'score1',\n            'lteamid': 'team2',\n            'lscore': 'score2',\n            'wloc': 'team1loc',\n            'wfgm': 'fgm1',\n            'wfga': 'fga1',\n            'wfgm3': 'fgm31',\n            'wfga3': 'fga31',\n            'wftm': 'ftm1',\n            'wfta': 'fta1',\n            'wor': 'or1',\n            'wdr': 'dr1',\n            'wast': 'ast1',\n            'wto': 'to1',\n            'wstl': 'stl1',\n            'wblk': 'blk1',\n            'wpf': 'pf1',\n            'lfgm': 'fgm2',\n            'lfga': 'fga2',\n            'lfgm3': 'fgm32',\n            'lfga3': 'fga32',\n            'lftm': 'ftm2',\n            'lfta': 'fta2',\n            'lor': 'or2',\n            'ldr': 'dr2',\n            'last': 'ast2',\n            'lto': 'to2',\n            'lstl': 'stl2',\n            'lblk': 'blk2',\n            'lpf': 'pf2',\n        })\n\n    detailed2 = detailed2.rename(\n        columns={\n            'wteamid': 'team2',\n            'wscore': 'score2',\n            'lteamid': 'team1',\n            'lscore': 'score1',\n            'wloc': 'team1loc',\n            'wfgm': 'fgm2',\n            'wfga': 'fga2',\n            'wfgm3': 'fgm32',\n            'wfga3': 'fga32',\n            'wftm': 'ftm2',\n            'wfta': 'fta2',\n            'wor': 'or2',\n            'wdr': 'dr2',\n            'wast': 'ast2',\n            'wto': 'to2',\n            'wstl': 'stl2',\n            'wblk': 'blk2',\n            'wpf': 'pf2',\n            'lfgm': 'fgm1',\n            'lfga': 'fga1',\n            'lfgm3': 'fgm31',\n            'lfga3': 'fga31',\n            'lftm': 'ftm1',\n            'lfta': 'fta1',\n            'lor': 'or1',\n            'ldr': 'dr1',\n            'last': 'ast1',\n            'lto': 'to1',\n            'lstl': 'stl1',\n            'lblk': 'blk1',\n            'lpf': 'pf1',\n        })\n\n    detailed2['team1loc'] = detailed2.team1loc.map({\n        'H': 'A',\n        'A': 'H',\n        'N': 'N',\n    })\n\n    detailed = pd.concat(\n        [\n            detailed1,\n            detailed2,\n        ], ignore_index=True, join='inner')\n\n    detailed['teamseason1'] = detailed.season.astype(str).str.cat(\n        detailed.team1.astype(str), sep=':')\n    detailed['teamseason2'] = detailed.season.astype(str).str.cat(\n        detailed.team2.astype(str), sep=':')\n\n    detailed['team1'] = pd.Categorical(detailed['team1'])\n    detailed['team2'] = pd.Categorical(detailed['team2'])\n    detailed['teamseason1'] = pd.Categorical(detailed['teamseason1'])\n    detailed['teamseason2'] = pd.Categorical(detailed['teamseason2'])\n    detailed['team1loc'] = pd.Categorical(detailed['team1loc'])\n    detailed['season'] = pd.Categorical(detailed['season'])\n    detailed['team1win'] = pd.Categorical(\n        detailed['score1'] > detailed['score2'])\n\n    detailed['poss'] = (\n        (detailed.fga1 + 0.475 * detailed.fta1 - detailed.or1 + detailed.to1) /\n        2 + (detailed.fga2 + 0.475 * detailed.fta2 - detailed.or2 +\n             detailed.to2) / 2)\n\n    detailed['oe1'] = 100 * detailed.score1 / detailed.poss\n    detailed['oe2'] = 100 * detailed.score2 / detailed.poss\n    detailed['de1'] = detailed['oe2']\n    detailed['de2'] = detailed['oe1']\n\n    # eFG%  = (.5*3FGM + FGM) / FGA\n    detailed['eFG1'] = (.5 * detailed.fgm31 + detailed.fgm1) / detailed.fga1\n    detailed['eFG2'] = (.5 * detailed.fgm32 + detailed.fgm2) / detailed.fga2\n\n    # TO% = TO / Possessions\n    detailed['topct1'] = detailed.to1 / detailed.poss\n    detailed['topct2'] = detailed.to2 / detailed.poss\n\n    # OR% = OR / (OR + DRopp)\n    detailed['orpct1'] = detailed.or1 / (detailed.or1 + detailed.dr2)\n    detailed['orpct2'] = detailed.or2 / (detailed.or2 + detailed.dr1)\n\n    # FTRate = FTA / FGA\n    detailed['ftrate1'] = detailed.fta1 / detailed.fga1\n    detailed['ftrate2'] = detailed.fta2 / detailed.fga2\n\n    # shotopp1 = (fga1 + 0.475 * fta1) / poss\n    detailed['shotopp1'] = (\n        (detailed.fga1 + 0.475 * detailed.fta1) / detailed.poss)\n    detailed['shotopp2'] = (\n        (detailed.fga2 + 0.475 * detailed.fta2) / detailed.poss)\n\n    # tspct1 = score1 / (2 * (fga1 + 0.475 * fta1))\n    detailed['tspct1'] = (\n        detailed.score1 / (2 * (detailed.fga1 + 0.475 * detailed.fta1)))\n    detailed['tspct2'] = (\n        detailed.score2 / (2 * (detailed.fga2 + 0.475 * detailed.fta2)))\n    \n    detailed['tempo'] = 40 * detailed.poss / (40 + 5 * detailed.numot)\n\n    return detailed\n\n\ndef design_matrix(games):\n    contrast = Sum().code_with_intercept(\n        games.teamseason1.cat.categories.tolist())\n\n    matrix_team1 = csr_matrix(contrast.matrix)\n    matrix_team2 = csr_matrix(contrast.matrix)[:, 1:]\n\n    contrast_matrix_team1 = hstack(\n        (matrix_team1, csr_matrix(matrix_team2.shape)), format='csr')\n    contrast_matrix_team2 = hstack(\n        (csr_matrix(matrix_team1.shape), matrix_team2), format='csr')\n\n    X1 = contrast_matrix_team1[games.teamseason1.cat.codes.tolist()]\n    X2 = contrast_matrix_team2[games.teamseason2.cat.codes.tolist()]\n    X = X1 + X2\n    return X, contrast_matrix_team1\n\n\ndef calc_adj_metrics(games):\n    X, contrast_matrix_team1 = design_matrix(games)\n    X = hstack([X, games.team1loc_num.values.reshape(-1, 1)])\n    contrast_matrix_team1 = hstack([\n        contrast_matrix_team1,\n        csr_matrix((contrast_matrix_team1.shape[0], 1))\n    ])\n\n    # First let's do Adjusted Offensive Efficiency\n    solution = lsqr(X, detailed.oe1.values)\n    AdjOE = pd.DataFrame({\n        'teamseason':\n        detailed.teamseason1.cat.categories.tolist(),\n        'AdjOE':\n        contrast_matrix_team1.dot(solution[0])\n    })\n\n    # Now let's do Adjusted Defensive Efficiency\n    solution = lsqr(X, detailed.de1.values)\n    AdjDE = pd.DataFrame({\n        'teamseason':\n        detailed.teamseason1.cat.categories.tolist(),\n        'AdjDE':\n        contrast_matrix_team1.dot(solution[0])\n    })\n\n    # Adjusted Tempo\n    solution = lsqr(X, detailed.tempo.values)\n    AdjTempo = pd.DataFrame({\n        'teamseason':\n        detailed.teamseason1.cat.categories.tolist(),\n        'AdjTempo':\n        contrast_matrix_team1.dot(solution[0])\n    })\n\n    return AdjOE.merge(AdjDE, on='teamseason').merge(AdjTempo, on='teamseason')\n",
      "execution_count": 93,
      "outputs": []
    },
    {
      "metadata": {
        "trusted": true,
        "_uuid": "7391112c95365d60a266e7ba3ff855b62f9ebbcd"
      },
      "cell_type": "code",
      "source": "compact = load_compact_data()\ndetailed = load_detailed_data()",
      "execution_count": 80,
      "outputs": []
    },
    {
      "metadata": {
        "trusted": true,
        "_uuid": "05b4d672a9677cbe72e2c8379706065cb3af41cd"
      },
      "cell_type": "code",
      "source": "adj_metrics = calc_adj_metrics(detailed)",
      "execution_count": 94,
      "outputs": []
    },
    {
      "metadata": {
        "trusted": true,
        "_uuid": "387cd4c544da301d28c3d5d76f0ecd04f130e82f"
      },
      "cell_type": "code",
      "source": "",
      "execution_count": null,
      "outputs": []
    }
  ],
  "metadata": {
    "kernelspec": {
      "display_name": "Python 3",
      "language": "python",
      "name": "python3"
    },
    "language_info": {
      "name": "python",
      "version": "3.6.6",
      "mimetype": "text/x-python",
      "codemirror_mode": {
        "name": "ipython",
        "version": 3
      },
      "pygments_lexer": "ipython3",
      "nbconvert_exporter": "python",
      "file_extension": ".py"
    }
  },
  "nbformat": 4,
  "nbformat_minor": 1
}